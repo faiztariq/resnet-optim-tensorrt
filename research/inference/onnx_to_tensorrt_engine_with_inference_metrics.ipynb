{
 "cells": [
  {
   "cell_type": "code",
   "execution_count": null,
   "metadata": {
    "colab": {},
    "colab_type": "code",
    "id": "dZm_dCxaQL8S"
   },
   "outputs": [],
   "source": [
    "# Downloading the TensorRT 5.1.5 package\n",
    "\n",
    "!wget -O nv-tensorrt-repo-ubuntu1804-cuda10.1-trt5.1.5.0-ga-20190427_1-1_amd64.deb https://developer.download.nvidia.com/compute/machine-learning/tensorrt/secure/5.1/ga/local_repos/nv-tensorrt-repo-ubuntu1804-cuda10.1-trt5.1.5.0-ga-20190427_1-1_amd64.deb?Huq45RJXqiOCuHLm14HFm4JDda9CifhIpE6jS_VfQjoZTB2xozrYijM4k0kvQnBPGBZl4KUErHus0-0qA8MV77Y9wa3IEQ6B9PlEhsS9Yt1LoNMspQSn-Lq5qzxQIQ3FWj1eCD3vUQl7RCX18hs_BkvJtd0ajuYYoc9ZIy0VqF5Y4x6D9W4vVe-vZMjzJ6OIwWnMZ1nLUCtOmqhMbYFxI83mmelFucxT4WHhDCWRld77Egu7FXd4HYpN9u6j5aG4oi921Q"
   ]
  },
  {
   "cell_type": "code",
   "execution_count": 2,
   "metadata": {
    "colab": {
     "base_uri": "https://localhost:8080/",
     "height": 102
    },
    "colab_type": "code",
    "id": "1SXHt9FNRAn6",
    "outputId": "680714b2-8b02-4399-e6a2-6f172b95181c"
   },
   "outputs": [
    {
     "name": "stdout",
     "output_type": "stream",
     "text": [
      "Selecting previously unselected package nv-tensorrt-repo-ubuntu1804-cuda10.1-trt5.1.5.0-ga-20190427.\n",
      "(Reading database ... \r",
      "(Reading database ... 5%\r",
      "(Reading database ... 10%\r",
      "(Reading database ... 15%\r",
      "(Reading database ... 20%\r",
      "(Reading database ... 25%\r",
      "(Reading database ... 30%\r",
      "(Reading database ... 35%\r",
      "(Reading database ... 40%\r",
      "(Reading database ... 45%\r",
      "(Reading database ... 50%\r",
      "(Reading database ... 55%\r",
      "(Reading database ... 60%\r",
      "(Reading database ... 65%\r",
      "(Reading database ... 70%\r",
      "(Reading database ... 75%\r",
      "(Reading database ... 80%\r",
      "(Reading database ... 85%\r",
      "(Reading database ... 90%\r",
      "(Reading database ... 95%\r",
      "(Reading database ... 100%\r",
      "(Reading database ... 144379 files and directories currently installed.)\n",
      "Preparing to unpack nv-tensorrt-repo-ubuntu1804-cuda10.1-trt5.1.5.0-ga-20190427_1-1_amd64.deb ...\n",
      "Unpacking nv-tensorrt-repo-ubuntu1804-cuda10.1-trt5.1.5.0-ga-20190427 (1-1) ...\n",
      "Setting up nv-tensorrt-repo-ubuntu1804-cuda10.1-trt5.1.5.0-ga-20190427 (1-1) ...\n"
     ]
    }
   ],
   "source": [
    "!dpkg -i nv-tensorrt-repo-ubuntu1804-cuda10.1-trt5.1.5.0-ga-20190427_1-1_amd64.deb"
   ]
  },
  {
   "cell_type": "code",
   "execution_count": 3,
   "metadata": {
    "colab": {
     "base_uri": "https://localhost:8080/",
     "height": 1000
    },
    "colab_type": "code",
    "id": "3-6K_DFxRHza",
    "outputId": "7bc7ddb7-ec09-4969-fb14-b229a50e1d2d"
   },
   "outputs": [
    {
     "name": "stdout",
     "output_type": "stream",
     "text": [
      "OK\n",
      "Get:1 file:/var/nv-tensorrt-repo-cuda10.1-trt5.1.5.0-ga-20190427  InRelease\n",
      "Ign:1 file:/var/nv-tensorrt-repo-cuda10.1-trt5.1.5.0-ga-20190427  InRelease\n",
      "Get:2 file:/var/nv-tensorrt-repo-cuda10.1-trt5.1.5.0-ga-20190427  Release [574 B]\n",
      "Get:2 file:/var/nv-tensorrt-repo-cuda10.1-trt5.1.5.0-ga-20190427  Release [574 B]\n",
      "Get:3 file:/var/nv-tensorrt-repo-cuda10.1-trt5.1.5.0-ga-20190427  Release.gpg [836 B]\n",
      "Get:3 file:/var/nv-tensorrt-repo-cuda10.1-trt5.1.5.0-ga-20190427  Release.gpg [836 B]\n",
      "Get:4 http://security.ubuntu.com/ubuntu bionic-security InRelease [88.7 kB]\n",
      "Hit:5 http://ppa.launchpad.net/graphics-drivers/ppa/ubuntu bionic InRelease\n",
      "Hit:6 http://archive.ubuntu.com/ubuntu bionic InRelease\n",
      "Get:7 http://ppa.launchpad.net/marutter/c2d4u3.5/ubuntu bionic InRelease [15.4 kB]\n",
      "Get:8 http://archive.ubuntu.com/ubuntu bionic-updates InRelease [88.7 kB]\n",
      "Get:9 http://archive.ubuntu.com/ubuntu bionic-backports InRelease [74.6 kB]\n",
      "Get:10 https://cloud.r-project.org/bin/linux/ubuntu bionic-cran35/ InRelease [3,626 B]\n",
      "Get:11 file:/var/nv-tensorrt-repo-cuda10.1-trt5.1.5.0-ga-20190427  Packages [3,356 B]\n",
      "Ign:12 https://developer.download.nvidia.com/compute/cuda/repos/ubuntu1804/x86_64  InRelease\n",
      "Ign:13 https://developer.download.nvidia.com/compute/machine-learning/repos/ubuntu1804/x86_64  InRelease\n",
      "Get:14 https://developer.download.nvidia.com/compute/cuda/repos/ubuntu1804/x86_64  Release [697 B]\n",
      "Get:15 https://developer.download.nvidia.com/compute/machine-learning/repos/ubuntu1804/x86_64  Release [564 B]\n",
      "Get:16 https://developer.download.nvidia.com/compute/cuda/repos/ubuntu1804/x86_64  Release.gpg [836 B]\n",
      "Get:17 https://developer.download.nvidia.com/compute/machine-learning/repos/ubuntu1804/x86_64  Release.gpg [833 B]\n",
      "Get:18 http://security.ubuntu.com/ubuntu bionic-security/restricted amd64 Packages [89.0 kB]\n",
      "Get:19 http://security.ubuntu.com/ubuntu bionic-security/multiverse amd64 Packages [9,282 B]\n",
      "Get:20 http://security.ubuntu.com/ubuntu bionic-security/main amd64 Packages [1,003 kB]\n",
      "Get:21 http://security.ubuntu.com/ubuntu bionic-security/universe amd64 Packages [869 kB]\n",
      "Get:22 http://ppa.launchpad.net/marutter/c2d4u3.5/ubuntu bionic/main Sources [1,847 kB]\n",
      "Get:23 http://ppa.launchpad.net/marutter/c2d4u3.5/ubuntu bionic/main amd64 Packages [892 kB]\n",
      "Get:24 http://archive.ubuntu.com/ubuntu bionic-updates/multiverse amd64 Packages [13.6 kB]\n",
      "Get:25 http://archive.ubuntu.com/ubuntu bionic-updates/restricted amd64 Packages [103 kB]\n",
      "Get:26 http://archive.ubuntu.com/ubuntu bionic-updates/universe amd64 Packages [1,405 kB]\n",
      "Get:27 http://archive.ubuntu.com/ubuntu bionic-updates/main amd64 Packages [1,303 kB]\n",
      "Get:28 https://cloud.r-project.org/bin/linux/ubuntu bionic-cran35/ Packages [94.1 kB]\n",
      "Ign:29 https://developer.download.nvidia.com/compute/cuda/repos/ubuntu1804/x86_64  Packages\n",
      "Get:30 https://developer.download.nvidia.com/compute/machine-learning/repos/ubuntu1804/x86_64  Packages [41.2 kB]\n",
      "Get:29 https://developer.download.nvidia.com/compute/cuda/repos/ubuntu1804/x86_64  Packages [214 kB]\n",
      "Fetched 8,157 kB in 2s (5,326 kB/s)\n",
      "Reading package lists... Done\n",
      "Reading package lists... Done\n",
      "Building dependency tree       \n",
      "Reading state information... Done\n",
      "The following package was automatically installed and is no longer required:\n",
      "  libnvidia-common-440\n",
      "Use 'sudo apt autoremove' to remove it.\n",
      "The following additional packages will be installed:\n",
      "  cuda-license-10-2\n",
      "The following NEW packages will be installed:\n",
      "  cuda-license-10-2 cuda-nvrtc-10-2\n",
      "0 upgraded, 2 newly installed, 0 to remove and 81 not upgraded.\n",
      "Need to get 6,429 kB of archives.\n",
      "After this operation, 27.0 MB of additional disk space will be used.\n",
      "Get:1 https://developer.download.nvidia.com/compute/cuda/repos/ubuntu1804/x86_64  cuda-license-10-2 10.2.89-1 [16.4 kB]\n",
      "Get:2 https://developer.download.nvidia.com/compute/cuda/repos/ubuntu1804/x86_64  cuda-nvrtc-10-2 10.2.89-1 [6,413 kB]\n",
      "Fetched 6,429 kB in 0s (34.9 MB/s)\n",
      "debconf: unable to initialize frontend: Dialog\n",
      "debconf: (No usable dialog-like program is installed, so the dialog based frontend cannot be used. at /usr/share/perl5/Debconf/FrontEnd/Dialog.pm line 76, <> line 2.)\n",
      "debconf: falling back to frontend: Readline\n",
      "debconf: unable to initialize frontend: Readline\n",
      "debconf: (This frontend requires a controlling tty.)\n",
      "debconf: falling back to frontend: Teletype\n",
      "dpkg-preconfigure: unable to re-open stdin: \n",
      "Selecting previously unselected package cuda-license-10-2.\n",
      "(Reading database ... 144400 files and directories currently installed.)\n",
      "Preparing to unpack .../cuda-license-10-2_10.2.89-1_amd64.deb ...\n",
      "Unpacking cuda-license-10-2 (10.2.89-1) ...\n",
      "Selecting previously unselected package cuda-nvrtc-10-2.\n",
      "Preparing to unpack .../cuda-nvrtc-10-2_10.2.89-1_amd64.deb ...\n",
      "Unpacking cuda-nvrtc-10-2 (10.2.89-1) ...\n",
      "Setting up cuda-license-10-2 (10.2.89-1) ...\n",
      "*** LICENSE AGREEMENT ***\n",
      "By using this software you agree to fully comply with the terms and \n",
      "conditions of the EULA (End User License Agreement). The EULA is located\n",
      "at /usr/local/cuda-10.2/doc/EULA.txt. The EULA can also be found at\n",
      "http://docs.nvidia.com/cuda/eula/index.html. If you do not agree to the\n",
      "terms and conditions of the EULA, do not use the software.\n",
      "\n",
      "Setting up cuda-nvrtc-10-2 (10.2.89-1) ...\n",
      "Processing triggers for libc-bin (2.27-3ubuntu1) ...\n",
      "/sbin/ldconfig.real: /usr/local/lib/python3.6/dist-packages/ideep4py/lib/libmkldnn.so.0 is not a symbolic link\n",
      "\n"
     ]
    }
   ],
   "source": [
    "# Installing the dependencies\n",
    "\n",
    "!sudo apt-key add /var/nv-tensorrt-repo-cuda10.1-trt5.1.5.0-ga-20190427/7fa2af80.pub\n",
    "\n",
    "!sudo apt-get update\n",
    "!sudo apt-get install cuda-nvrtc-10-2"
   ]
  },
  {
   "cell_type": "code",
   "execution_count": 4,
   "metadata": {
    "colab": {
     "base_uri": "https://localhost:8080/",
     "height": 615
    },
    "colab_type": "code",
    "id": "SeNoNhACotgk",
    "outputId": "6c4bb3ad-a298-48a2-ee06-375a3e5c6d73"
   },
   "outputs": [
    {
     "name": "stdout",
     "output_type": "stream",
     "text": [
      "\r",
      "Reading package lists... 0%\r",
      "\r",
      "Reading package lists... 0%\r",
      "\r",
      "Reading package lists... 0%\r",
      "\r",
      "Reading package lists... 6%\r",
      "\r",
      "Reading package lists... 6%\r",
      "\r",
      "Reading package lists... 6%\r",
      "\r",
      "Reading package lists... 6%\r",
      "\r",
      "Reading package lists... 61%\r",
      "\r",
      "Reading package lists... 61%\r",
      "\r",
      "Reading package lists... 62%\r",
      "\r",
      "Reading package lists... 62%\r",
      "\r",
      "Reading package lists... 70%\r",
      "\r",
      "Reading package lists... 70%\r",
      "\r",
      "Reading package lists... 70%\r",
      "\r",
      "Reading package lists... 71%\r",
      "\r",
      "Reading package lists... 71%\r",
      "\r",
      "Reading package lists... 80%\r",
      "\r",
      "Reading package lists... 80%\r",
      "\r",
      "Reading package lists... 80%\r",
      "\r",
      "Reading package lists... 80%\r",
      "\r",
      "Reading package lists... 80%\r",
      "\r",
      "Reading package lists... 80%\r",
      "\r",
      "Reading package lists... 80%\r",
      "\r",
      "Reading package lists... 80%\r",
      "\r",
      "Reading package lists... 86%\r",
      "\r",
      "Reading package lists... 86%\r",
      "\r",
      "Reading package lists... 87%\r",
      "\r",
      "Reading package lists... 87%\r",
      "\r",
      "Reading package lists... 93%\r",
      "\r",
      "Reading package lists... 93%\r",
      "\r",
      "Reading package lists... 93%\r",
      "\r",
      "Reading package lists... 93%\r",
      "\r",
      "Reading package lists... 93%\r",
      "\r",
      "Reading package lists... 93%\r",
      "\r",
      "Reading package lists... 94%\r",
      "\r",
      "Reading package lists... 94%\r",
      "\r",
      "Reading package lists... 95%\r",
      "\r",
      "Reading package lists... 95%\r",
      "\r",
      "Reading package lists... 98%\r",
      "\r",
      "Reading package lists... 98%\r",
      "\r",
      "Reading package lists... 98%\r",
      "\r",
      "Reading package lists... 98%\r",
      "\r",
      "Reading package lists... 98%\r",
      "\r",
      "Reading package lists... 98%\r",
      "\r",
      "Reading package lists... Done\r\n",
      "\r",
      "Building dependency tree... 0%\r",
      "\r",
      "Building dependency tree... 0%\r",
      "\r",
      "Building dependency tree... 50%\r",
      "\r",
      "Building dependency tree... 50%\r",
      "\r",
      "Building dependency tree       \r\n",
      "\r",
      "Reading state information... 0%\r",
      "\r",
      "Reading state information... 0%\r",
      "\r",
      "Reading state information... Done\r\n",
      "The following package was automatically installed and is no longer required:\n",
      "  libnvidia-common-440\n",
      "Use 'sudo apt autoremove' to remove it.\n",
      "The following additional packages will be installed:\n",
      "  libnvinfer5\n",
      "The following NEW packages will be installed:\n",
      "  libnvinfer-dev libnvinfer5\n",
      "0 upgraded, 2 newly installed, 0 to remove and 81 not upgraded.\n",
      "Need to get 0 B/94.3 MB of archives.\n",
      "After this operation, 341 MB of additional disk space will be used.\n",
      "Get:1 file:/var/nv-tensorrt-repo-cuda10.1-trt5.1.5.0-ga-20190427  libnvinfer5 5.1.5-1+cuda10.1 [46.7 MB]\n",
      "Get:2 file:/var/nv-tensorrt-repo-cuda10.1-trt5.1.5.0-ga-20190427  libnvinfer-dev 5.1.5-1+cuda10.1 [47.6 MB]\n",
      "debconf: unable to initialize frontend: Dialog\n",
      "debconf: (No usable dialog-like program is installed, so the dialog based frontend cannot be used. at /usr/share/perl5/Debconf/FrontEnd/Dialog.pm line 76, <> line 2.)\n",
      "debconf: falling back to frontend: Readline\n",
      "debconf: unable to initialize frontend: Readline\n",
      "debconf: (This frontend requires a controlling tty.)\n",
      "debconf: falling back to frontend: Teletype\n",
      "dpkg-preconfigure: unable to re-open stdin: \n",
      "Selecting previously unselected package libnvinfer5.\n",
      "(Reading database ... 144421 files and directories currently installed.)\n",
      "Preparing to unpack .../libnvinfer5_5.1.5-1+cuda10.1_amd64.deb ...\n",
      "Unpacking libnvinfer5 (5.1.5-1+cuda10.1) ...\n",
      "Selecting previously unselected package libnvinfer-dev.\n",
      "Preparing to unpack .../libnvinfer-dev_5.1.5-1+cuda10.1_amd64.deb ...\n",
      "Unpacking libnvinfer-dev (5.1.5-1+cuda10.1) ...\n",
      "Setting up libnvinfer5 (5.1.5-1+cuda10.1) ...\n",
      "Setting up libnvinfer-dev (5.1.5-1+cuda10.1) ...\n",
      "Processing triggers for libc-bin (2.27-3ubuntu1) ...\n",
      "/sbin/ldconfig.real: /usr/local/lib/python3.6/dist-packages/ideep4py/lib/libmkldnn.so.0 is not a symbolic link\n",
      "\n"
     ]
    }
   ],
   "source": [
    "!sudo apt-get install libnvinfer-dev=5.1.5-1+cuda10.1"
   ]
  },
  {
   "cell_type": "code",
   "execution_count": 5,
   "metadata": {
    "colab": {
     "base_uri": "https://localhost:8080/",
     "height": 445
    },
    "colab_type": "code",
    "id": "OZzJwzzXo62A",
    "outputId": "c215b0de-d51f-4792-df93-be235108ac6f"
   },
   "outputs": [
    {
     "name": "stdout",
     "output_type": "stream",
     "text": [
      "Reading package lists... Done\n",
      "Building dependency tree       \n",
      "Reading state information... Done\n",
      "The following package was automatically installed and is no longer required:\n",
      "  libnvidia-common-440\n",
      "Use 'sudo apt autoremove' to remove it.\n",
      "The following NEW packages will be installed:\n",
      "  libnvinfer-samples\n",
      "0 upgraded, 1 newly installed, 0 to remove and 82 not upgraded.\n",
      "Need to get 0 B/463 MB of archives.\n",
      "After this operation, 836 MB of additional disk space will be used.\n",
      "Get:1 file:/var/nv-tensorrt-repo-cuda10.1-trt5.1.5.0-ga-20190427  libnvinfer-samples 5.1.5-1+cuda10.1 [463 MB]\n",
      "debconf: unable to initialize frontend: Dialog\n",
      "debconf: (No usable dialog-like program is installed, so the dialog based frontend cannot be used. at /usr/share/perl5/Debconf/FrontEnd/Dialog.pm line 76, <> line 1.)\n",
      "debconf: falling back to frontend: Readline\n",
      "debconf: unable to initialize frontend: Readline\n",
      "debconf: (This frontend requires a controlling tty.)\n",
      "debconf: falling back to frontend: Teletype\n",
      "dpkg-preconfigure: unable to re-open stdin: \n",
      "Selecting previously unselected package libnvinfer-samples.\n",
      "(Reading database ... 144467 files and directories currently installed.)\n",
      "Preparing to unpack .../libnvinfer-samples_5.1.5-1+cuda10.1_all.deb ...\n",
      "Unpacking libnvinfer-samples (5.1.5-1+cuda10.1) ...\n",
      "Setting up libnvinfer-samples (5.1.5-1+cuda10.1) ...\n"
     ]
    }
   ],
   "source": [
    "!sudo apt-get install libnvinfer-samples=5.1.5-1+cuda10.1"
   ]
  },
  {
   "cell_type": "code",
   "execution_count": 6,
   "metadata": {
    "colab": {
     "base_uri": "https://localhost:8080/",
     "height": 445
    },
    "colab_type": "code",
    "id": "5L2FFfvRroU4",
    "outputId": "4b02c1bc-9356-4cfc-c43d-d45ce8ea93d9"
   },
   "outputs": [
    {
     "name": "stdout",
     "output_type": "stream",
     "text": [
      "Reading package lists... Done\n",
      "Building dependency tree       \n",
      "Reading state information... Done\n",
      "The following package was automatically installed and is no longer required:\n",
      "  libnvidia-common-440\n",
      "Use 'sudo apt autoremove' to remove it.\n",
      "The following NEW packages will be installed:\n",
      "  python3-libnvinfer\n",
      "0 upgraded, 1 newly installed, 0 to remove and 82 not upgraded.\n",
      "Need to get 0 B/325 kB of archives.\n",
      "After this operation, 2,228 kB of additional disk space will be used.\n",
      "Get:1 file:/var/nv-tensorrt-repo-cuda10.1-trt5.1.5.0-ga-20190427  python3-libnvinfer 5.1.5-1+cuda10.1 [325 kB]\n",
      "debconf: unable to initialize frontend: Dialog\n",
      "debconf: (No usable dialog-like program is installed, so the dialog based frontend cannot be used. at /usr/share/perl5/Debconf/FrontEnd/Dialog.pm line 76, <> line 1.)\n",
      "debconf: falling back to frontend: Readline\n",
      "debconf: unable to initialize frontend: Readline\n",
      "debconf: (This frontend requires a controlling tty.)\n",
      "debconf: falling back to frontend: Teletype\n",
      "dpkg-preconfigure: unable to re-open stdin: \n",
      "Selecting previously unselected package python3-libnvinfer.\n",
      "(Reading database ... 146501 files and directories currently installed.)\n",
      "Preparing to unpack .../python3-libnvinfer_5.1.5-1+cuda10.1_amd64.deb ...\n",
      "Unpacking python3-libnvinfer (5.1.5-1+cuda10.1) ...\n",
      "Setting up python3-libnvinfer (5.1.5-1+cuda10.1) ...\n"
     ]
    }
   ],
   "source": [
    "!sudo apt-get install python3-libnvinfer=5.1.5-1+cuda10.1"
   ]
  },
  {
   "cell_type": "code",
   "execution_count": 7,
   "metadata": {
    "colab": {
     "base_uri": "https://localhost:8080/",
     "height": 445
    },
    "colab_type": "code",
    "id": "FnilkcrYaHI3",
    "outputId": "0ca15c6e-5ce0-4af8-c22d-61ed0794afc6"
   },
   "outputs": [
    {
     "name": "stdout",
     "output_type": "stream",
     "text": [
      "\r",
      "Reading package lists... 0%\r",
      "\r",
      "Reading package lists... 0%\r",
      "\r",
      "Reading package lists... 0%\r",
      "\r",
      "Reading package lists... 6%\r",
      "\r",
      "Reading package lists... 6%\r",
      "\r",
      "Reading package lists... 6%\r",
      "\r",
      "Reading package lists... 6%\r",
      "\r",
      "Reading package lists... 61%\r",
      "\r",
      "Reading package lists... 61%\r",
      "\r",
      "Reading package lists... 62%\r",
      "\r",
      "Reading package lists... 62%\r",
      "\r",
      "Reading package lists... 69%\r",
      "\r",
      "Reading package lists... 70%\r",
      "\r",
      "Reading package lists... 70%\r",
      "\r",
      "Reading package lists... 71%\r",
      "\r",
      "Reading package lists... 71%\r",
      "\r",
      "Reading package lists... 80%\r",
      "\r",
      "Reading package lists... 80%\r",
      "\r",
      "Reading package lists... 80%\r",
      "\r",
      "Reading package lists... 80%\r",
      "\r",
      "Reading package lists... 80%\r",
      "\r",
      "Reading package lists... 80%\r",
      "\r",
      "Reading package lists... 80%\r",
      "\r",
      "Reading package lists... 80%\r",
      "\r",
      "Reading package lists... 86%\r",
      "\r",
      "Reading package lists... 86%\r",
      "\r",
      "Reading package lists... 87%\r",
      "\r",
      "Reading package lists... 87%\r",
      "\r",
      "Reading package lists... 93%\r",
      "\r",
      "Reading package lists... 93%\r",
      "\r",
      "Reading package lists... 93%\r",
      "\r",
      "Reading package lists... 93%\r",
      "\r",
      "Reading package lists... 93%\r",
      "\r",
      "Reading package lists... 93%\r",
      "\r",
      "Reading package lists... 94%\r",
      "\r",
      "Reading package lists... 94%\r",
      "\r",
      "Reading package lists... 95%\r",
      "\r",
      "Reading package lists... 95%\r",
      "\r",
      "Reading package lists... 98%\r",
      "\r",
      "Reading package lists... 98%\r",
      "\r",
      "Reading package lists... 98%\r",
      "\r",
      "Reading package lists... 98%\r",
      "\r",
      "Reading package lists... 98%\r",
      "\r",
      "Reading package lists... 98%\r",
      "\r",
      "Reading package lists... Done\r\n",
      "\r",
      "Building dependency tree... 0%\r",
      "\r",
      "Building dependency tree... 0%\r",
      "\r",
      "Building dependency tree... 50%\r",
      "\r",
      "Building dependency tree... 50%\r",
      "\r",
      "Building dependency tree       \r\n",
      "Reading state information... Done\n",
      "The following package was automatically installed and is no longer required:\n",
      "  libnvidia-common-440\n",
      "Use 'sudo apt autoremove' to remove it.\n",
      "The following NEW packages will be installed:\n",
      "  tensorrt\n",
      "0 upgraded, 1 newly installed, 0 to remove and 83 not upgraded.\n",
      "Need to get 0 B/1,631 kB of archives.\n",
      "After this operation, 1,742 kB of additional disk space will be used.\n",
      "Get:1 file:/var/nv-tensorrt-repo-cuda10.1-trt5.1.5.0-ga-20190427  tensorrt 5.1.5.0-1+cuda10.1 [1,631 kB]\n",
      "debconf: unable to initialize frontend: Dialog\n",
      "debconf: (No usable dialog-like program is installed, so the dialog based frontend cannot be used. at /usr/share/perl5/Debconf/FrontEnd/Dialog.pm line 76, <> line 1.)\n",
      "debconf: falling back to frontend: Readline\n",
      "debconf: unable to initialize frontend: Readline\n",
      "debconf: (This frontend requires a controlling tty.)\n",
      "debconf: falling back to frontend: Teletype\n",
      "dpkg-preconfigure: unable to re-open stdin: \n",
      "Selecting previously unselected package tensorrt.\n",
      "(Reading database ... 146525 files and directories currently installed.)\n",
      "Preparing to unpack .../tensorrt_5.1.5.0-1+cuda10.1_amd64.deb ...\n",
      "Unpacking tensorrt (5.1.5.0-1+cuda10.1) ...\n",
      "Setting up tensorrt (5.1.5.0-1+cuda10.1) ...\n"
     ]
    }
   ],
   "source": [
    "!sudo apt-get install tensorrt"
   ]
  },
  {
   "cell_type": "code",
   "execution_count": 8,
   "metadata": {
    "colab": {
     "base_uri": "https://localhost:8080/",
     "height": 122
    },
    "colab_type": "code",
    "id": "5cfY7bJ0-Wzm",
    "outputId": "03491766-681a-4bbb-d6c9-5b78444db4e0"
   },
   "outputs": [
    {
     "name": "stdout",
     "output_type": "stream",
     "text": [
      "ii  libnvinfer-dev                                              5.1.5-1+cuda10.1                                  amd64        TensorRT development libraries and headers\n",
      "ii  libnvinfer-samples                                          5.1.5-1+cuda10.1                                  all          TensorRT samples and documentation\n",
      "ii  libnvinfer5                                                 5.1.5-1+cuda10.1                                  amd64        TensorRT runtime libraries\n",
      "ii  python3-libnvinfer                                          5.1.5-1+cuda10.1                                  amd64        Python 3 bindings for TensorRT\n",
      "ii  tensorrt                                                    5.1.5.0-1+cuda10.1                                amd64        Meta package of TensorRT\n"
     ]
    }
   ],
   "source": [
    "# Checking for installed tensorrt dir\n",
    "\n",
    "!dpkg -l | grep TensorRT"
   ]
  },
  {
   "cell_type": "code",
   "execution_count": 9,
   "metadata": {
    "colab": {
     "base_uri": "https://localhost:8080/",
     "height": 462
    },
    "colab_type": "code",
    "id": "xaymFZepbz5u",
    "outputId": "03c9af46-b501-4ded-ae9c-7a6fc87e608f"
   },
   "outputs": [
    {
     "name": "stdout",
     "output_type": "stream",
     "text": [
      "Collecting pycuda>=2019.1.2\n",
      "\u001b[?25l  Downloading https://files.pythonhosted.org/packages/5e/3f/5658c38579b41866ba21ee1b5020b8225cec86fe717e4b1c5c972de0a33c/pycuda-2019.1.2.tar.gz (1.6MB)\n",
      "\u001b[K     |████████████████████████████████| 1.6MB 7.2MB/s \n",
      "\u001b[?25hCollecting pytools>=2011.2\n",
      "\u001b[?25l  Downloading https://files.pythonhosted.org/packages/6c/78/54e6146f65b8c6779634d28f46cad0ad6effe5f3d7614fe9892abd8e0d3c/pytools-2020.3.1.tar.gz (67kB)\n",
      "\u001b[K     |████████████████████████████████| 71kB 6.7MB/s \n",
      "\u001b[?25hRequirement already satisfied: decorator>=3.2.0 in /usr/local/lib/python3.6/dist-packages (from pycuda>=2019.1.2) (4.4.2)\n",
      "Collecting appdirs>=1.4.0\n",
      "  Downloading https://files.pythonhosted.org/packages/3b/00/2344469e2084fb287c2e0b57b72910309874c3245463acd6cf5e3db69324/appdirs-1.4.4-py2.py3-none-any.whl\n",
      "Collecting mako\n",
      "\u001b[?25l  Downloading https://files.pythonhosted.org/packages/a6/37/0e706200d22172eb8fa17d68a7ae22dec7631a0a92266634fb518a88a5b2/Mako-1.1.3-py2.py3-none-any.whl (75kB)\n",
      "\u001b[K     |████████████████████████████████| 81kB 8.7MB/s \n",
      "\u001b[?25hRequirement already satisfied: six>=1.8.0 in /usr/local/lib/python3.6/dist-packages (from pytools>=2011.2->pycuda>=2019.1.2) (1.12.0)\n",
      "Requirement already satisfied: numpy>=1.6.0 in /usr/local/lib/python3.6/dist-packages (from pytools>=2011.2->pycuda>=2019.1.2) (1.18.5)\n",
      "Requirement already satisfied: MarkupSafe>=0.9.2 in /usr/local/lib/python3.6/dist-packages (from mako->pycuda>=2019.1.2) (1.1.1)\n",
      "Building wheels for collected packages: pycuda, pytools\n",
      "  Building wheel for pycuda (setup.py) ... \u001b[?25l\u001b[?25hdone\n",
      "  Created wheel for pycuda: filename=pycuda-2019.1.2-cp36-cp36m-linux_x86_64.whl size=4536988 sha256=324fc8a95e1391dfcb1264b1ba849affaa55671acef00283324f77aa800ff066\n",
      "  Stored in directory: /root/.cache/pip/wheels/a6/60/f0/b1c430c73d281ac3e46070480db50f7907364eb6f6d3188396\n",
      "  Building wheel for pytools (setup.py) ... \u001b[?25l\u001b[?25hdone\n",
      "  Created wheel for pytools: filename=pytools-2020.3.1-py2.py3-none-any.whl size=65243 sha256=b796993677a4ac76e13c5789b9dccc404cd7aa5c13854db98f5d6ff229d309d0\n",
      "  Stored in directory: /root/.cache/pip/wheels/ac/01/07/fe484d8aae398b7f6150dae468a53887f0e7e265f1fc7fc975\n",
      "Successfully built pycuda pytools\n",
      "Installing collected packages: appdirs, pytools, mako, pycuda\n",
      "Successfully installed appdirs-1.4.4 mako-1.1.3 pycuda-2019.1.2 pytools-2020.3.1\n"
     ]
    }
   ],
   "source": [
    "# Installing python dependencies for using APIs\n",
    "\n",
    "!pip install 'pycuda>=2019.1.2'"
   ]
  },
  {
   "cell_type": "code",
   "execution_count": 10,
   "metadata": {
    "colab": {
     "base_uri": "https://localhost:8080/",
     "height": 34
    },
    "colab_type": "code",
    "id": "Z35_xMFTuCeA",
    "outputId": "f8471230-2960-4be1-cf78-2b1623e44557"
   },
   "outputs": [
    {
     "name": "stdout",
     "output_type": "stream",
     "text": [
      "tensorrt  tensorrt-5.1.5.0.dist-info\n"
     ]
    }
   ],
   "source": [
    "!ls /usr/lib/python3.6/dist-packages/"
   ]
  },
  {
   "cell_type": "code",
   "execution_count": 11,
   "metadata": {
    "colab": {},
    "colab_type": "code",
    "id": "I7itDy3eiR5j"
   },
   "outputs": [],
   "source": [
    "# Moving to the Colab dependencies repo\n",
    "\n",
    "!cp -a /usr/lib/python3.6/dist-packages/. /usr/local/lib/python3.6/dist-packages/"
   ]
  },
  {
   "cell_type": "code",
   "execution_count": null,
   "metadata": {
    "colab": {},
    "colab_type": "code",
    "id": "UhTmmFpgtEiI"
   },
   "outputs": [],
   "source": [
    "# Installing for further simplification of the model (see ../references.txt)\n",
    "\n",
    "!pip3 install onnx-simplifier"
   ]
  },
  {
   "cell_type": "code",
   "execution_count": null,
   "metadata": {
    "colab": {},
    "colab_type": "code",
    "id": "LkGxCIlttlfr"
   },
   "outputs": [],
   "source": [
    "# Simplifying the model using the utility\n",
    "\n",
    "!python3 -m onnxsim drive/My\\ Drive/cifar10/models/img_classification_optimize.onnx img_classification_opt.onnx"
   ]
  },
  {
   "cell_type": "code",
   "execution_count": null,
   "metadata": {
    "colab": {},
    "colab_type": "code",
    "id": "GfpzFigCX80B"
   },
   "outputs": [],
   "source": [
    "# Creating a set for running inference on the engine\n",
    "\n",
    "!cp -a drive/My\\ Drive/cifar10/inference ./"
   ]
  },
  {
   "cell_type": "code",
   "execution_count": 21,
   "metadata": {
    "colab": {},
    "colab_type": "code",
    "id": "WUequLSU3ISY"
   },
   "outputs": [],
   "source": [
    "import os\n",
    "INFERENCE_FILES = []\n",
    "for root, dirs, files in os.walk(\"./inference\"):\n",
    "  for filename in files:\n",
    "    if '.png' in filename:\n",
    "      INFERENCE_FILES.append(filename)"
   ]
  },
  {
   "cell_type": "code",
   "execution_count": 22,
   "metadata": {
    "colab": {
     "base_uri": "https://localhost:8080/",
     "height": 119
    },
    "colab_type": "code",
    "id": "og02NOwziAQw",
    "outputId": "e95f034d-4daa-411c-ac6d-742af7e08175"
   },
   "outputs": [
    {
     "name": "stdout",
     "output_type": "stream",
     "text": [
      "Incorrectly recognized inference/9590_airplane.png as bird\n",
      "Incorrectly recognized inference/9602_airplane.png as ship\n",
      "Accuracy =  0.96875\n",
      "Latency:\n",
      "CPU times: user 7.1 s, sys: 1.61 s, total: 8.71 s\n",
      "Wall time: 19.8 s\n"
     ]
    }
   ],
   "source": [
    "%%time\n",
    "\n",
    "import random\n",
    "from PIL import Image\n",
    "import numpy as np\n",
    "\n",
    "import pycuda.driver as cuda\n",
    "# This import causes pycuda to automatically manage CUDA context creation and cleanup.\n",
    "import pycuda.autoinit\n",
    "\n",
    "import tensorrt as trt\n",
    "\n",
    "import os\n",
    "\n",
    "class ModelData(object):\n",
    "    \"\"\"\n",
    "    Parameters: self obj\n",
    "    Description: Model Data Class\n",
    "    Returns: None\n",
    "    \"\"\"\n",
    "    MODEL_PATH = \"inference/img_classification_opt.onnx\"\n",
    "    INPUT_SHAPE = (3, 224, 224)\n",
    "    # We can convert TensorRT data types to numpy types with trt.nptype()\n",
    "    DTYPE = trt.float32\n",
    "\n",
    "# You can set the logger severity higher to suppress messages (or lower to display more messages).\n",
    "TRT_LOGGER = trt.Logger(trt.Logger.WARNING)\n",
    "\n",
    "# Allocate host and device buffers, and create a stream.\n",
    "def allocate_buffers(engine):\n",
    "    \"\"\"\n",
    "    Parameters: engine\n",
    "    Description: Determine dimensions and create page-locked memory buffers (i.e. won't be swapped to disk) to hold host inputs/outputs.\n",
    "    Returns: h_input, d_input, h_output, d_output, stream\n",
    "    \"\"\"\n",
    "    # Determine dimensions and create page-locked memory buffers (i.e. won't be swapped to disk) to hold host inputs/outputs.\n",
    "    h_input = cuda.pagelocked_empty(trt.volume(engine.get_binding_shape(0)), dtype=trt.nptype(ModelData.DTYPE))\n",
    "    h_output = cuda.pagelocked_empty(trt.volume(engine.get_binding_shape(1)), dtype=trt.nptype(ModelData.DTYPE))\n",
    "    # Allocate device memory for inputs and outputs.\n",
    "    d_input = cuda.mem_alloc(h_input.nbytes)\n",
    "    d_output = cuda.mem_alloc(h_output.nbytes)\n",
    "    # Create a stream in which to copy inputs/outputs and run inference.\n",
    "    stream = cuda.Stream()\n",
    "    return h_input, d_input, h_output, d_output, stream\n",
    "\n",
    "def do_inference(context, h_input, d_input, h_output, d_output, stream):\n",
    "    \"\"\"\n",
    "    Parameters: context, h_input, d_input, h_output, d_output, stream\n",
    "    Description: Running inference on the engine\n",
    "    Returns: None\n",
    "    \"\"\"\n",
    "    # Transfer input data to the GPU.\n",
    "    cuda.memcpy_htod_async(d_input, h_input, stream)\n",
    "    # Run inference.\n",
    "    context.execute_async(bindings=[int(d_input), int(d_output)], stream_handle=stream.handle)\n",
    "    # Transfer predictions back from the GPU.\n",
    "    cuda.memcpy_dtoh_async(h_output, d_output, stream)\n",
    "    # Synchronize the stream\n",
    "    stream.synchronize()\n",
    "\n",
    "# The Onnx path is used for Onnx models.\n",
    "def build_engine_onnx(model_file):\n",
    "    \"\"\"\n",
    "    Parameters: model_file\n",
    "    Description: Building the Engine for running inference\n",
    "    Returns: engine\n",
    "    \"\"\"\n",
    "    with trt.Builder(TRT_LOGGER) as builder, builder.create_network() as network, trt.OnnxParser(network, TRT_LOGGER) as parser:\n",
    "        builder.max_workspace_size = 1 << 20\n",
    "        # Load the Onnx model and parse it in order to populate the TensorRT network.\n",
    "        with open(model_file, 'rb') as model:\n",
    "            parser.parse(model.read())\n",
    "        return builder.build_cuda_engine(network)\n",
    "\n",
    "def load_normalized_test_case(test_image, pagelocked_buffer):\n",
    "    \"\"\"\n",
    "    Parameters: test_image, pagelocked_buffer\n",
    "    Description: Normalizing the test Image for running test case\n",
    "    Returns: test_image\n",
    "    \"\"\"\n",
    "    # Converts the input image to a CHW Numpy array\n",
    "    def normalize_image(image):\n",
    "        # Resize, antialias and transpose the image to CHW.\n",
    "        c, h, w = ModelData.INPUT_SHAPE\n",
    "        image_arr = np.asarray(image.resize((w, h), Image.ANTIALIAS)).transpose([2, 0, 1]).astype(trt.nptype(ModelData.DTYPE)).ravel()\n",
    "        return (image_arr / 255.0 - 0.45) / 0.225\n",
    "\n",
    "    # Normalize the image and copy to pagelocked memory.\n",
    "    np.copyto(pagelocked_buffer, normalize_image(Image.open(test_image)))\n",
    "    return test_image\n",
    "\n",
    "def main():\n",
    "    # Set the data path to the directory that contains the trained models and test images for inference.\n",
    "    # Get test images, models and labels.\n",
    "    test_images = INFERENCE_FILES\n",
    "    onnx_model_file = ModelData.MODEL_PATH\n",
    "    labels_file = \"inference/labels.txt\"\n",
    "    labels = open(labels_file, 'r').read().split('\\n')\n",
    "\n",
    "    # Build a TensorRT engine.\n",
    "    with build_engine_onnx(onnx_model_file) as engine:\n",
    "        # Inference is the same regardless of which parser is used to build the engine, since the model architecture is the same.\n",
    "        # Allocate buffers and create a CUDA stream.\n",
    "        h_input, d_input, h_output, d_output, stream = allocate_buffers(engine)\n",
    "        # Contexts are used to perform inference.\n",
    "        with engine.create_execution_context() as context:\n",
    "            # Load a normalized test case into the host input page-locked buffer.\n",
    "            true_pos = 0\n",
    "            for test_image in test_images:\n",
    "              test_case = load_normalized_test_case('inference/' + test_image, h_input)\n",
    "              # Run the engine. The output will be a 1D tensor of length 1000, where each value represents the\n",
    "              # probability that the image corresponds to that label\n",
    "              do_inference(context, h_input, d_input, h_output, d_output, stream)\n",
    "              # We use the highest probability as our prediction. Its index corresponds to the predicted label.\n",
    "              pred = labels[np.argmax(h_output)]\n",
    "              if \"_\".join(pred.split()) in os.path.splitext(os.path.basename(test_case))[0]:\n",
    "                # print(\"Correctly recognized \" + test_case + \" as \" + pred)\n",
    "                true_pos += 1\n",
    "              else:\n",
    "                print(\"Incorrectly recognized \" + test_case + \" as \" + pred)\n",
    "            acc = true_pos / len(test_images)\n",
    "            print(\"Accuracy = \" , acc)\n",
    "            print(\"Latency:\")\n",
    "\n",
    "if __name__ == '__main__':\n",
    "    main()"
   ]
  }
 ],
 "metadata": {
  "accelerator": "GPU",
  "colab": {
   "name": "onnx_to_tensorrt_engine.ipynb",
   "provenance": []
  },
  "kernelspec": {
   "display_name": "Python 3",
   "language": "python",
   "name": "python3"
  },
  "language_info": {
   "codemirror_mode": {
    "name": "ipython",
    "version": 3
   },
   "file_extension": ".py",
   "mimetype": "text/x-python",
   "name": "python",
   "nbconvert_exporter": "python",
   "pygments_lexer": "ipython3",
   "version": "3.7.7"
  }
 },
 "nbformat": 4,
 "nbformat_minor": 1
}
